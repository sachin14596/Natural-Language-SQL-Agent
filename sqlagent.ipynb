{
 "cells": [
  {
   "cell_type": "code",
   "execution_count": 1,
   "id": "4ac8f262",
   "metadata": {},
   "outputs": [
    {
     "name": "stderr",
     "output_type": "stream",
     "text": [
      "d:\\Study\\LLM\\AgenticAI\\SQL_Database_Agent_LangGraph\\venv\\Lib\\site-packages\\IPython\\core\\interactiveshell.py:3549: LangChainDeprecationWarning: As of langchain-core 0.3.0, LangChain uses pydantic v2 internally. The langchain_core.pydantic_v1 module was a compatibility shim for pydantic v1, and should no longer be used. Please update the code to import from Pydantic directly.\n",
      "\n",
      "For example, replace imports like: `from langchain_core.pydantic_v1 import BaseModel`\n",
      "with: `from pydantic import BaseModel`\n",
      "or the v1 compatibility namespace if you are working in a code base that has not been fully upgraded to pydantic 2 yet. \tfrom pydantic.v1 import BaseModel\n",
      "\n",
      "  exec(code_obj, self.user_global_ns, self.user_ns)\n"
     ]
    }
   ],
   "source": [
    "import warnings\n",
    "# Suppress all warnings\n",
    "warnings.filterwarnings(\"ignore\")\n",
    "\n",
    "from typing import Annotated, Literal\n",
    "from langchain_core.messages import AIMessage\n",
    "from langchain_core.pydantic_v1 import BaseModel, Field\n",
    "from typing_extensions import TypedDict\n",
    "from langgraph.graph import END, StateGraph, START\n",
    "from langgraph.graph.message import AnyMessage, add_messages\n",
    "from typing import Any\n",
    "from langchain_core.messages import ToolMessage\n",
    "from langchain_core.runnables import RunnableLambda, RunnableWithFallbacks\n",
    "from langgraph.prebuilt import ToolNode\n",
    "from langchain_community.utilities import SQLDatabase"
   ]
  },
  {
   "cell_type": "code",
   "execution_count": 2,
   "id": "c3726b79",
   "metadata": {},
   "outputs": [],
   "source": [
    "import os\n",
    "import sqlite3"
   ]
  },
  {
   "cell_type": "code",
   "execution_count": 3,
   "id": "8ec53395",
   "metadata": {},
   "outputs": [
    {
     "name": "stdout",
     "output_type": "stream",
     "text": [
      "Old database deleted. Fresh start!\n"
     ]
    }
   ],
   "source": [
    "# Step 1: Delete existing database file (if it exists)\n",
    "if os.path.exists(\"mydb.db\"):\n",
    "    os.remove(\"mydb.db\")\n",
    "    print(\"Old database deleted. Fresh start!\")"
   ]
  },
  {
   "cell_type": "code",
   "execution_count": 4,
   "id": "ca41b0d8",
   "metadata": {},
   "outputs": [],
   "source": [
    "\n",
    "connection = sqlite3.connect(\"mydb.db\")"
   ]
  },
  {
   "cell_type": "code",
   "execution_count": 5,
   "id": "67ad2010",
   "metadata": {},
   "outputs": [
    {
     "data": {
      "text/plain": [
       "<sqlite3.Connection at 0x2302ec55c60>"
      ]
     },
     "execution_count": 5,
     "metadata": {},
     "output_type": "execute_result"
    }
   ],
   "source": [
    "\n",
    "connection"
   ]
  },
  {
   "cell_type": "code",
   "execution_count": 6,
   "id": "469083ef",
   "metadata": {},
   "outputs": [],
   "source": [
    "table_creation_query=\"\"\"\n",
    "CREATE TABLE IF NOT EXISTS employees (\n",
    "    emp_id INTEGER PRIMARY KEY,\n",
    "    first_name TEXT NOT NULL,\n",
    "    last_name TEXT NOT NULL,\n",
    "    email TEXT UNIQUE NOT NULL,\n",
    "    hire_date TEXT NOT NULL,\n",
    "    salary REAL NOT NULL\n",
    ");\n",
    "\"\"\""
   ]
  },
  {
   "cell_type": "code",
   "execution_count": 7,
   "id": "5021cead",
   "metadata": {},
   "outputs": [],
   "source": [
    "table_creation_query2=\"\"\"\n",
    "CREATE TABLE IF NOT EXISTS customers (\n",
    "    customer_id INTEGER PRIMARY KEY AUTOINCREMENT,\n",
    "    first_name TEXT NOT NULL,\n",
    "    last_name TEXT NOT NULL,\n",
    "    email TEXT UNIQUE NOT NULL,\n",
    "    phone TEXT\n",
    ");\n",
    "\"\"\""
   ]
  },
  {
   "cell_type": "code",
   "execution_count": 8,
   "id": "c166d82d",
   "metadata": {},
   "outputs": [],
   "source": [
    "table_creation_query3=\"\"\"\n",
    "CREATE TABLE IF NOT EXISTS orders (\n",
    "    order_id INTEGER PRIMARY KEY AUTOINCREMENT,\n",
    "    customer_id INTEGER NOT NULL,\n",
    "    order_date TEXT NOT NULL,\n",
    "    amount REAL NOT NULL,\n",
    "    FOREIGN KEY (customer_id) REFERENCES customers (customer_id)\n",
    ");\n",
    "\n",
    "\"\"\""
   ]
  },
  {
   "cell_type": "code",
   "execution_count": 9,
   "id": "6930270c",
   "metadata": {},
   "outputs": [],
   "source": [
    "cursor=connection.cursor() #To execute commands in DB"
   ]
  },
  {
   "cell_type": "code",
   "execution_count": 10,
   "id": "930e63dd",
   "metadata": {},
   "outputs": [
    {
     "data": {
      "text/plain": [
       "<sqlite3.Cursor at 0x2302ecb49c0>"
      ]
     },
     "execution_count": 10,
     "metadata": {},
     "output_type": "execute_result"
    }
   ],
   "source": [
    "cursor.execute(\"DROP TABLE IF EXISTS orders\")\n",
    "cursor.execute(\"DROP TABLE IF EXISTS customers\")\n",
    "cursor.execute(\"DROP TABLE IF EXISTS employees\")\n"
   ]
  },
  {
   "cell_type": "code",
   "execution_count": 11,
   "id": "8f6073f5",
   "metadata": {},
   "outputs": [
    {
     "data": {
      "text/plain": [
       "<sqlite3.Cursor at 0x2302ecb49c0>"
      ]
     },
     "execution_count": 11,
     "metadata": {},
     "output_type": "execute_result"
    }
   ],
   "source": [
    "\n",
    "cursor.execute(table_creation_query)\n",
    "cursor.execute(table_creation_query2)\n",
    "cursor.execute(table_creation_query3)"
   ]
  },
  {
   "cell_type": "code",
   "execution_count": 12,
   "id": "d63ddefd",
   "metadata": {},
   "outputs": [],
   "source": [
    "insert_query = \"\"\"\n",
    "INSERT INTO employees (emp_id, first_name, last_name, email, hire_date, salary)\n",
    "VALUES (?, ?, ?, ?, ?, ?);\n",
    "\"\"\"\n",
    "\n",
    "insert_query_customers = \"\"\"\n",
    "INSERT INTO customers (customer_id, first_name, last_name, email, phone)\n",
    "VALUES (?, ?, ?, ?, ?);\n",
    "\"\"\"\n",
    "\n",
    "insert_query_orders = \"\"\"\n",
    "INSERT INTO orders (order_id, customer_id, order_date, amount)\n",
    "VALUES (?, ?, ?, ?);\n",
    "\"\"\""
   ]
  },
  {
   "cell_type": "code",
   "execution_count": 13,
   "id": "2c5908b1",
   "metadata": {},
   "outputs": [],
   "source": [
    "employee_data = [\n",
    "    (1, \"Sunny\", \"Savita\", \"sunny.sv@abc.com\", \"2023-06-01\", 50000.00),\n",
    "    (2, \"Arhun\", \"Meheta\", \"arhun.m@gmail.com\", \"2022-04-15\", 60000.00),\n",
    "    (3, \"Alice\", \"Johnson\", \"alice.johnson@jpg.com\", \"2021-09-30\", 55000.00),\n",
    "    (4, \"Bob\", \"Brown\", \"bob.brown@uio.com\", \"2020-01-20\", 45000.00),\n",
    "    ]\n",
    "\n",
    "customers_data = [\n",
    "    (1, \"John\", \"Doe\", \"john.doe@example.com\", \"1234567890\"),\n",
    "    (2, \"Jane\", \"Smith\", \"jane.smith@example.com\", \"9876543210\"),\n",
    "    (3, \"Emily\", \"Davis\", \"emily.davis@example.com\", \"4567891230\"),\n",
    "    (4, \"Michael\", \"Brown\", \"michael.brown@example.com\", \"7894561230\"),\n",
    "]\n",
    "\n",
    "orders_data = [\n",
    "    (1, 1, \"2023-12-01\", 250.75),\n",
    "    (2, 2, \"2023-11-20\", 150.50),\n",
    "    (3, 3, \"2023-11-25\", 300.00),\n",
    "    (4, 4, \"2023-12-02\", 450.00),\n",
    "]"
   ]
  },
  {
   "cell_type": "code",
   "execution_count": 14,
   "id": "34035a11",
   "metadata": {},
   "outputs": [
    {
     "data": {
      "text/plain": [
       "<sqlite3.Cursor at 0x2302ecb49c0>"
      ]
     },
     "execution_count": 14,
     "metadata": {},
     "output_type": "execute_result"
    }
   ],
   "source": [
    "\n",
    "cursor.executemany(insert_query,employee_data)\n",
    "cursor.executemany(insert_query_customers,customers_data)\n",
    "cursor.executemany(insert_query_orders,orders_data)"
   ]
  },
  {
   "cell_type": "code",
   "execution_count": 15,
   "id": "23c3413e",
   "metadata": {},
   "outputs": [],
   "source": [
    "\n",
    "connection.commit()"
   ]
  },
  {
   "cell_type": "code",
   "execution_count": 16,
   "id": "fe8bf8ec",
   "metadata": {},
   "outputs": [
    {
     "data": {
      "text/plain": [
       "<sqlite3.Cursor at 0x2302ecb49c0>"
      ]
     },
     "execution_count": 16,
     "metadata": {},
     "output_type": "execute_result"
    }
   ],
   "source": [
    "cursor.execute(\"select * from orders;\")"
   ]
  },
  {
   "cell_type": "code",
   "execution_count": 17,
   "id": "588051ed",
   "metadata": {},
   "outputs": [
    {
     "name": "stdout",
     "output_type": "stream",
     "text": [
      "(1, 1, '2023-12-01', 250.75)\n",
      "(2, 2, '2023-11-20', 150.5)\n",
      "(3, 3, '2023-11-25', 300.0)\n",
      "(4, 4, '2023-12-02', 450.0)\n"
     ]
    }
   ],
   "source": [
    "for row in cursor.fetchall():\n",
    "    print(row)"
   ]
  },
  {
   "cell_type": "code",
   "execution_count": 18,
   "id": "9fbdd652",
   "metadata": {},
   "outputs": [
    {
     "data": {
      "image/png": "[encoded data removed]",
      "text/plain": [
       "<Figure size 640x480 with 1 Axes>"
      ]
     },
     "metadata": {},
     "output_type": "display_data"
    }
   ],
   "source": [
    "import matplotlib.pyplot as plt\n",
    "import matplotlib.image as mpimg\n",
    "\n",
    "# Load and display the image\n",
    "img = mpimg.imread('image.png')  # Replace with your actual image filename or path\n",
    "plt.imshow(img)\n",
    "plt.axis('off')  # Optional: hides the axes\n",
    "plt.show()\n"
   ]
  },
  {
   "cell_type": "code",
   "execution_count": 19,
   "id": "b014b698",
   "metadata": {},
   "outputs": [],
   "source": [
    "from langchain_community.utilities import SQLDatabase"
   ]
  },
  {
   "cell_type": "code",
   "execution_count": 20,
   "id": "b37b8609",
   "metadata": {},
   "outputs": [],
   "source": [
    "\n",
    "db=SQLDatabase.from_uri(\"sqlite:///mydb.db\")"
   ]
  },
  {
   "cell_type": "code",
   "execution_count": 21,
   "id": "6d2abb1e",
   "metadata": {},
   "outputs": [
    {
     "data": {
      "text/plain": [
       "<langchain_community.utilities.sql_database.SQLDatabase at 0x2303f0ed940>"
      ]
     },
     "execution_count": 21,
     "metadata": {},
     "output_type": "execute_result"
    }
   ],
   "source": [
    "db"
   ]
  },
  {
   "cell_type": "code",
   "execution_count": 22,
   "id": "0bb72cae",
   "metadata": {},
   "outputs": [
    {
     "data": {
      "text/plain": [
       "'sqlite'"
      ]
     },
     "execution_count": 22,
     "metadata": {},
     "output_type": "execute_result"
    }
   ],
   "source": [
    "db.dialect"
   ]
  },
  {
   "cell_type": "code",
   "execution_count": 23,
   "id": "e0892fd9",
   "metadata": {},
   "outputs": [
    {
     "data": {
      "text/plain": [
       "['customers', 'employees', 'orders']"
      ]
     },
     "execution_count": 23,
     "metadata": {},
     "output_type": "execute_result"
    }
   ],
   "source": [
    "db.get_usable_table_names()"
   ]
  },
  {
   "cell_type": "code",
   "execution_count": 24,
   "id": "6d79f775",
   "metadata": {},
   "outputs": [],
   "source": [
    "\n",
    "from langchain_groq import ChatGroq\n",
    "llm=ChatGroq(model=\"llama3-70b-8192\")"
   ]
  },
  {
   "cell_type": "code",
   "execution_count": 25,
   "id": "687dcc0f",
   "metadata": {},
   "outputs": [
    {
     "data": {
      "text/plain": [
       "AIMessage(content=\"Hello! I'm just an AI, I don't have feelings or emotions like humans do, but I'm functioning properly and ready to assist you with any questions or tasks you may have. How can I help you today?\", additional_kwargs={}, response_metadata={'token_usage': {'completion_tokens': 46, 'prompt_tokens': 15, 'total_tokens': 61, 'completion_time': 0.131428571, 'prompt_time': 0.000168478, 'queue_time': 0.093980816, 'total_time': 0.131597049}, 'model_name': 'llama3-70b-8192', 'system_fingerprint': 'fp_dd4ae1c591', 'finish_reason': 'stop', 'logprobs': None}, id='run-d08e12b5-9a65-4396-b3b0-f227df3d3e4c-0', usage_metadata={'input_tokens': 15, 'output_tokens': 46, 'total_tokens': 61})"
      ]
     },
     "execution_count": 25,
     "metadata": {},
     "output_type": "execute_result"
    }
   ],
   "source": [
    "\n",
    "from langchain_groq import ChatGroq\n",
    "llm=ChatGroq(model=\"llama3-70b-8192\")\n",
    "\n",
    "llm.invoke(\"hello how are you?\")"
   ]
  },
  {
   "cell_type": "code",
   "execution_count": 26,
   "id": "ec38badd",
   "metadata": {},
   "outputs": [],
   "source": [
    "# Langchain Wrapper\n",
    "from langchain_community.agent_toolkits import SQLDatabaseToolkit"
   ]
  },
  {
   "cell_type": "code",
   "execution_count": 27,
   "id": "23dc8c00",
   "metadata": {},
   "outputs": [
    {
     "data": {
      "text/plain": [
       "[QuerySQLDatabaseTool(description=\"Input to this tool is a detailed and correct SQL query, output is a result from the database. If the query is not correct, an error message will be returned. If an error is returned, rewrite the query, check the query, and try again. If you encounter an issue with Unknown column 'xxxx' in 'field list', use sql_db_schema to query the correct table fields.\", db=<langchain_community.utilities.sql_database.SQLDatabase object at 0x000002303F0ED940>),\n",
       " InfoSQLDatabaseTool(description='Input to this tool is a comma-separated list of tables, output is the schema and sample rows for those tables. Be sure that the tables actually exist by calling sql_db_list_tables first! Example Input: table1, table2, table3', db=<langchain_community.utilities.sql_database.SQLDatabase object at 0x000002303F0ED940>),\n",
       " ListSQLDatabaseTool(db=<langchain_community.utilities.sql_database.SQLDatabase object at 0x000002303F0ED940>),\n",
       " QuerySQLCheckerTool(description='Use this tool to double check if your query is correct before executing it. Always use this tool before executing a query with sql_db_query!', db=<langchain_community.utilities.sql_database.SQLDatabase object at 0x000002303F0ED940>, llm=ChatGroq(client=<groq.resources.chat.completions.Completions object at 0x0000023041C31590>, async_client=<groq.resources.chat.completions.AsyncCompletions object at 0x0000023041C33750>, model_name='llama3-70b-8192', model_kwargs={}, groq_api_key=SecretStr('**********')), llm_chain=LLMChain(verbose=False, prompt=PromptTemplate(input_variables=['dialect', 'query'], input_types={}, partial_variables={}, template='\\n{query}\\nDouble check the {dialect} query above for common mistakes, including:\\n- Using NOT IN with NULL values\\n- Using UNION when UNION ALL should have been used\\n- Using BETWEEN for exclusive ranges\\n- Data type mismatch in predicates\\n- Properly quoting identifiers\\n- Using the correct number of arguments for functions\\n- Casting to the correct data type\\n- Using the proper columns for joins\\n\\nIf there are any of the above mistakes, rewrite the query. If there are no mistakes, just reproduce the original query.\\n\\nOutput the final SQL query only.\\n\\nSQL Query: '), llm=ChatGroq(client=<groq.resources.chat.completions.Completions object at 0x0000023041C31590>, async_client=<groq.resources.chat.completions.AsyncCompletions object at 0x0000023041C33750>, model_name='llama3-70b-8192', model_kwargs={}, groq_api_key=SecretStr('**********')), output_parser=StrOutputParser(), llm_kwargs={}))]"
      ]
     },
     "execution_count": 27,
     "metadata": {},
     "output_type": "execute_result"
    }
   ],
   "source": [
    "toolkit=SQLDatabaseToolkit(db=db, llm=llm)\n",
    "tools=toolkit.get_tools()\n",
    "tools"
   ]
  },
  {
   "cell_type": "code",
   "execution_count": 28,
   "id": "01c0512d",
   "metadata": {},
   "outputs": [
    {
     "name": "stdout",
     "output_type": "stream",
     "text": [
      "sql_db_query\n",
      "sql_db_schema\n",
      "sql_db_list_tables\n",
      "sql_db_query_checker\n"
     ]
    }
   ],
   "source": [
    "for tool in tools:\n",
    "    print(tool.name)"
   ]
  },
  {
   "cell_type": "code",
   "execution_count": 29,
   "id": "9357fd8f",
   "metadata": {},
   "outputs": [],
   "source": [
    "list_tables_tool = next((tool for tool in tools if tool.name == \"sql_db_list_tables\"), None)"
   ]
  },
  {
   "cell_type": "code",
   "execution_count": 30,
   "id": "6fe13cee",
   "metadata": {},
   "outputs": [],
   "source": [
    "get_schema_tool = next((tool for tool in tools if tool.name == \"sql_db_schema\"), None)\n"
   ]
  },
  {
   "cell_type": "code",
   "execution_count": 31,
   "id": "3c3c9ae2",
   "metadata": {},
   "outputs": [],
   "source": [
    "\n",
    "llm_to_get_schema=llm.bind_tools([get_schema_tool])"
   ]
  },
  {
   "cell_type": "code",
   "execution_count": 32,
   "id": "48d403e2",
   "metadata": {},
   "outputs": [],
   "source": [
    "# Custom Tool Crated\n",
    "\n",
    "from langchain_core.tools import tool\n",
    "@tool\n",
    "def query_to_database(query:str)->str:\n",
    "    \"\"\"\n",
    "    Execute a SQL query against the database and return the result.\n",
    "    If the query is invalid or returns no result, an error message will be returned.\n",
    "    In case of an error, the user is advised to rewrite the query and try again.\n",
    "    \"\"\"\n",
    "    result=db.run_no_throw(query)\n",
    "    if not result:\n",
    "        return \"Error: Query failed. Please rewrite your query and try again.\"\n",
    "    return result"
   ]
  },
  {
   "cell_type": "code",
   "execution_count": 33,
   "id": "c85d89cc",
   "metadata": {},
   "outputs": [
    {
     "data": {
      "text/plain": [
       "\"[(1, 'Sunny', 'Savita', 'sunny.sv@abc.com', '2023-06-01', 50000.0), (2, 'Arhun', 'Meheta', 'arhun.m@gmail.com', '2022-04-15', 60000.0), (3, 'Alice', 'Johnson', 'alice.johnson@jpg.com', '2021-09-30', 55000.0), (4, 'Bob', 'Brown', 'bob.brown@uio.com', '2020-01-20', 45000.0)]\""
      ]
     },
     "execution_count": 33,
     "metadata": {},
     "output_type": "execute_result"
    }
   ],
   "source": [
    "query_to_database.invoke(\"SELECT * FROM Employees;\")"
   ]
  },
  {
   "cell_type": "code",
   "execution_count": 34,
   "id": "54bfa7de",
   "metadata": {},
   "outputs": [],
   "source": [
    "llm_with_tools=llm.bind_tools([query_to_database])"
   ]
  },
  {
   "cell_type": "code",
   "execution_count": 35,
   "id": "d24ccb26",
   "metadata": {},
   "outputs": [
    {
     "data": {
      "text/plain": [
       "AIMessage(content='', additional_kwargs={'tool_calls': [{'id': 'call_8hkt', 'function': {'arguments': '{\"query\":\"SELECT * FROM Employees;\"}', 'name': 'query_to_database'}, 'type': 'function'}]}, response_metadata={'token_usage': {'completion_tokens': 48, 'prompt_tokens': 947, 'total_tokens': 995, 'completion_time': 0.137142857, 'prompt_time': 0.030890161, 'queue_time': 0.09417547400000001, 'total_time': 0.168033018}, 'model_name': 'llama3-70b-8192', 'system_fingerprint': 'fp_dd4ae1c591', 'finish_reason': 'tool_calls', 'logprobs': None}, id='run-9894ec00-e173-4092-8eae-9f52c18c4445-0', tool_calls=[{'name': 'query_to_database', 'args': {'query': 'SELECT * FROM Employees;'}, 'id': 'call_8hkt', 'type': 'tool_call'}], usage_metadata={'input_tokens': 947, 'output_tokens': 48, 'total_tokens': 995})"
      ]
     },
     "execution_count": 35,
     "metadata": {},
     "output_type": "execute_result"
    }
   ],
   "source": [
    "llm_with_tools.invoke(\"SELECT * FROM Employees;\")"
   ]
  },
  {
   "cell_type": "code",
   "execution_count": 36,
   "id": "553aaaf1",
   "metadata": {},
   "outputs": [
    {
     "data": {
      "text/plain": [
       "AIMessage(content='', additional_kwargs={'tool_calls': [{'id': 'call_4qs4', 'function': {'arguments': '{\"query\":\"SELECT * FROM orders WHERE month(placed) = 12\"}', 'name': 'query_to_database'}, 'type': 'function'}]}, response_metadata={'token_usage': {'completion_tokens': 55, 'prompt_tokens': 949, 'total_tokens': 1004, 'completion_time': 0.165706252, 'prompt_time': 0.038606312, 'queue_time': 0.09720489899999998, 'total_time': 0.204312564}, 'model_name': 'llama3-70b-8192', 'system_fingerprint': 'fp_dd4ae1c591', 'finish_reason': 'tool_calls', 'logprobs': None}, id='run-e70d7584-dbae-4c6e-95a3-61c0de3dab5b-0', tool_calls=[{'name': 'query_to_database', 'args': {'query': 'SELECT * FROM orders WHERE month(placed) = 12'}, 'id': 'call_4qs4', 'type': 'tool_call'}], usage_metadata={'input_tokens': 949, 'output_tokens': 55, 'total_tokens': 1004})"
      ]
     },
     "execution_count": 36,
     "metadata": {},
     "output_type": "execute_result"
    }
   ],
   "source": [
    "llm_with_tools.invoke(\"Show me all orders placed in December\")\n"
   ]
  },
  {
   "cell_type": "code",
   "execution_count": 37,
   "id": "c6a02b26",
   "metadata": {},
   "outputs": [],
   "source": [
    "class State(TypedDict):\n",
    "    messages: Annotated[list[AnyMessage], add_messages]"
   ]
  },
  {
   "cell_type": "code",
   "execution_count": 38,
   "id": "6a7271ff",
   "metadata": {},
   "outputs": [],
   "source": [
    "def handle_tool_error(state:State):\n",
    "    error = state.get(\"error\") \n",
    "    tool_calls = state[\"messages\"][-1].tool_calls\n",
    "    return { \"messages\": [ ToolMessage(content=f\"Error: {repr(error)}\\n please fix your mistakes.\",tool_call_id=tc[\"id\"],) for tc in tool_calls ] }\n",
    "\n",
    "def create_node_from_tool_with_fallback(tools:list)-> RunnableWithFallbacks[Any, dict]:\n",
    "    return ToolNode(tools).with_fallbacks([RunnableLambda(handle_tool_error)], exception_key=\"error\")"
   ]
  },
  {
   "cell_type": "code",
   "execution_count": 39,
   "id": "e6ad1785",
   "metadata": {},
   "outputs": [],
   "source": [
    "list_tables=create_node_from_tool_with_fallback([list_tables_tool])\n",
    "get_schema=create_node_from_tool_with_fallback([get_schema_tool])\n",
    "query_database=create_node_from_tool_with_fallback([query_to_database])\n"
   ]
  },
  {
   "cell_type": "code",
   "execution_count": 40,
   "id": "ab7b76f6",
   "metadata": {},
   "outputs": [],
   "source": [
    "from langchain_core.prompts import ChatPromptTemplate\n",
    "\n",
    "query_check_system = \"\"\"You are a SQL expert. Carefully review the SQL query for common mistakes, including:\n",
    "\n",
    "Issues with NULL handling (e.g., NOT IN with NULLs)\n",
    "Improper use of UNION instead of UNION ALL\n",
    "Incorrect use of BETWEEN for exclusive ranges\n",
    "Data type mismatches or incorrect casting\n",
    "Quoting identifiers improperly\n",
    "Incorrect number of arguments in functions\n",
    "Errors in JOIN conditions\n",
    "\n",
    "If you find any mistakes, rewrite the query to fix them. If it's correct, reproduce it as is.\"\"\"\n",
    "\n",
    "query_check_prompt = ChatPromptTemplate.from_messages([(\"system\", query_check_system), (\"placeholder\", \"{messages}\")])\n",
    "\n",
    "check_generated_query = query_check_prompt | llm_with_tools"
   ]
  },
  {
   "cell_type": "code",
   "execution_count": 41,
   "id": "be558f50",
   "metadata": {},
   "outputs": [
    {
     "data": {
      "text/plain": [
       "AIMessage(content='', additional_kwargs={'tool_calls': [{'id': 'call_8315', 'function': {'arguments': '{\"query\":\"SELECT * FROM Employees LIMIT 5;\"}', 'name': 'query_to_database'}, 'type': 'function'}]}, response_metadata={'token_usage': {'completion_tokens': 51, 'prompt_tokens': 1051, 'total_tokens': 1102, 'completion_time': 0.145714286, 'prompt_time': 0.042105833, 'queue_time': 0.094516302, 'total_time': 0.187820119}, 'model_name': 'llama3-70b-8192', 'system_fingerprint': 'fp_dd4ae1c591', 'finish_reason': 'tool_calls', 'logprobs': None}, id='run-7acb039e-be58-4523-8ec5-4d4437ee024e-0', tool_calls=[{'name': 'query_to_database', 'args': {'query': 'SELECT * FROM Employees LIMIT 5;'}, 'id': 'call_8315', 'type': 'tool_call'}], usage_metadata={'input_tokens': 1051, 'output_tokens': 51, 'total_tokens': 1102})"
      ]
     },
     "execution_count": 41,
     "metadata": {},
     "output_type": "execute_result"
    }
   ],
   "source": [
    "check_generated_query.invoke({\"messages\": [(\"user\", \"SELECT * FROM Employees LIMIT 5;\")]})\n"
   ]
  },
  {
   "cell_type": "code",
   "execution_count": 42,
   "id": "863fc9d9",
   "metadata": {},
   "outputs": [],
   "source": [
    "class SubmitFinalAnswer(BaseModel):\n",
    "    \"\"\"Submit the final answer to the user based on the query results.\"\"\"\n",
    "    final_answer: str = Field(..., description=\"The final answer to the user\")\n",
    "    \n",
    "llm_with_final_answer=llm.bind_tools([SubmitFinalAnswer])"
   ]
  },
  {
   "cell_type": "code",
   "execution_count": 43,
   "id": "dca53bb6",
   "metadata": {},
   "outputs": [],
   "source": [
    "# Add a node for a model to generate a query based on the question and schema\n",
    "query_gen_system_prompt = \"\"\"You are a SQL expert with a strong attention to detail.Given an input question, output a syntactically correct SQLite query to run, then look at the results of the query and return the answer.\n",
    "\n",
    "1. DO NOT call any tool besides SubmitFinalAnswer to submit the final answer.\n",
    "\n",
    "When generating the query:\n",
    "\n",
    "2. Output the SQL query that answers the input question without a tool call.\n",
    "\n",
    "3. Unless the user specifies a specific number of examples they wish to obtain, always limit your query to at most 5 results.\n",
    "\n",
    "4. You can order the results by a relevant column to return the most interesting examples in the database.\n",
    "\n",
    "5. Never query for all the columns from a specific table, only ask for the relevant columns given the question.\n",
    "\n",
    "6. If you get an error while executing a query, rewrite the query and try again.\n",
    "\n",
    "7. If you get an empty result set, you should try to rewrite the query to get a non-empty result set.\n",
    "\n",
    "8. NEVER make stuff up if you don't have enough information to answer the query... just say you don't have enough information.\n",
    "\n",
    "9. If you have enough information to answer the input question, simply invoke the appropriate tool to submit the final answer to the user.\n",
    "\n",
    "10. DO NOT make any DML statements (INSERT, UPDATE, DELETE, DROP etc.) to the database. Do not return any sql query except answer. \"\"\"\n",
    "\n",
    "query_gen_prompt = ChatPromptTemplate.from_messages([(\"system\", query_gen_system_prompt), (\"placeholder\", \"{messages}\")])\n",
    "\n",
    "query_generator = query_gen_prompt | llm_with_final_answer\n"
   ]
  },
  {
   "cell_type": "code",
   "execution_count": 44,
   "id": "61034f79",
   "metadata": {},
   "outputs": [],
   "source": [
    "def first_tool_call(state:State)->dict[str,list[AIMessage]]:\n",
    "    print(f\"state from first_tool_call: {state}\")\n",
    "    return{\"messages\": [AIMessage(content=\"\",tool_calls=[{\"name\":\"sql_db_list_tables\",\"args\":{},\"id\":\"tool_abcd123\"}])]}\n"
   ]
  },
  {
   "cell_type": "code",
   "execution_count": 45,
   "id": "8bd93d75",
   "metadata": {},
   "outputs": [],
   "source": [
    "def check_the_given_query(state:State):\n",
    "    print(f\"state from check the given query: {state}\")\n",
    "    return {\"messages\": [check_generated_query.invoke({\"messages\": [state[\"messages\"][-1]]})]}\n"
   ]
  },
  {
   "cell_type": "code",
   "execution_count": 46,
   "id": "e81772c9",
   "metadata": {},
   "outputs": [],
   "source": [
    "def generation_query(state:State):\n",
    "    message = query_generator.invoke(state)\n",
    "    print(f\"state from generation_query: {state}\")\n",
    "\n",
    "    # Sometimes, the LLM will hallucinate and call the wrong tool. We need to catch this and return an error message.\n",
    "    tool_messages = []\n",
    "    if message.tool_calls:\n",
    "        for tc in message.tool_calls:\n",
    "            if tc[\"name\"] != \"SubmitFinalAnswer\":\n",
    "                tool_messages.append(\n",
    "                    ToolMessage(\n",
    "                        content=f\"Error: The wrong tool was called: {tc['name']}. Please fix your mistakes. Remember to only call SubmitFinalAnswer to submit the final answer. Generated queries should be outputted WITHOUT a tool call.\",\n",
    "                        tool_call_id=tc[\"id\"],\n",
    "                    )\n",
    "                )\n",
    "    else:\n",
    "        tool_messages = []\n",
    "    return {\"messages\": [message] + tool_messages}"
   ]
  },
  {
   "cell_type": "code",
   "execution_count": 47,
   "id": "b9bf58ab",
   "metadata": {},
   "outputs": [],
   "source": [
    "def should_continue(state:State):\n",
    "    print(f\"state from should_continue: {state}\")\n",
    "    messages = state[\"messages\"]\n",
    "    last_message = messages[-1]\n",
    "    print(\"last message\")\n",
    "    print(last_message)\n",
    "    if getattr(last_message, \"tool_calls\", None):\n",
    "        print(\"sooo\")\n",
    "        return END\n",
    "    elif last_message.content.startswith(\"Error:\"):\n",
    "        print(\"dooo\")\n",
    "        return \"query_gen\"\n",
    "    else:\n",
    "        print(\"oooo\")\n",
    "        return \"correct_query\""
   ]
  },
  {
   "cell_type": "code",
   "execution_count": 48,
   "id": "6f42b17a",
   "metadata": {},
   "outputs": [],
   "source": [
    "def llm_get_schema(state:State):\n",
    "    print(\"state from llm_get_schema\", state)\n",
    "    response = llm_to_get_schema.invoke(state[\"messages\"])\n",
    "    return {\"messages\": [response]}"
   ]
  },
  {
   "cell_type": "code",
   "execution_count": 49,
   "id": "82fc4bdc",
   "metadata": {},
   "outputs": [
    {
     "data": {
      "text/plain": [
       "<langgraph.graph.state.StateGraph at 0x23041c2b620>"
      ]
     },
     "execution_count": 49,
     "metadata": {},
     "output_type": "execute_result"
    }
   ],
   "source": [
    "workflow = StateGraph(State)\n",
    "workflow.add_node(\"first_tool_call\",first_tool_call)\n",
    "workflow.add_node(\"list_tables_tool\", list_tables)\n",
    "workflow.add_node(\"get_schema_tool\", get_schema)\n",
    "workflow.add_node(\"model_get_schema\", llm_get_schema)\n",
    "workflow.add_node(\"query_gen\", generation_query)\n",
    "workflow.add_node(\"correct_query\", check_the_given_query)\n",
    "workflow.add_node(\"execute_query\", query_database)\n"
   ]
  },
  {
   "cell_type": "code",
   "execution_count": 50,
   "id": "37e42958",
   "metadata": {},
   "outputs": [
    {
     "data": {
      "text/plain": [
       "<langgraph.graph.state.StateGraph at 0x23041c2b620>"
      ]
     },
     "execution_count": 50,
     "metadata": {},
     "output_type": "execute_result"
    }
   ],
   "source": [
    "workflow.add_edge(START, \"first_tool_call\")\n",
    "workflow.add_edge(\"first_tool_call\", \"list_tables_tool\")\n",
    "workflow.add_edge(\"list_tables_tool\", \"model_get_schema\")\n",
    "workflow.add_edge(\"model_get_schema\", \"get_schema_tool\")\n",
    "workflow.add_edge(\"get_schema_tool\", \"query_gen\")\n",
    "workflow.add_conditional_edges(\"query_gen\",should_continue,\n",
    "                            {END:END,\n",
    "                            \"correct_query\":\"correct_query\"})\n",
    "workflow.add_edge(\"correct_query\", \"execute_query\")\n",
    "workflow.add_edge(\"execute_query\", \"query_gen\")\n"
   ]
  },
  {
   "cell_type": "code",
   "execution_count": 51,
   "id": "151cac35",
   "metadata": {},
   "outputs": [],
   "source": [
    "app=workflow.compile()"
   ]
  },
  {
   "cell_type": "code",
   "execution_count": 53,
   "id": "939d1817",
   "metadata": {},
   "outputs": [
    {
     "name": "stdout",
     "output_type": "stream",
     "text": [
      "state from first_tool_call: {'messages': [HumanMessage(content='how many order are there which is more than 300 rupees?', additional_kwargs={}, response_metadata={}, id='89b5eb82-378c-4465-9d0f-60ea4cb0ae55')]}\n",
      "state from llm_get_schema {'messages': [HumanMessage(content='how many order are there which is more than 300 rupees?', additional_kwargs={}, response_metadata={}, id='89b5eb82-378c-4465-9d0f-60ea4cb0ae55'), AIMessage(content='', additional_kwargs={}, response_metadata={}, id='0bb15095-57c4-49c4-988a-2d95c1f9cc0e', tool_calls=[{'name': 'sql_db_list_tables', 'args': {}, 'id': 'tool_abcd123', 'type': 'tool_call'}]), ToolMessage(content='customers, employees, orders', name='sql_db_list_tables', id='4bddfed2-7390-462d-8e45-6020f0af2749', tool_call_id='tool_abcd123')]}\n",
      "state from generation_query: {'messages': [HumanMessage(content='how many order are there which is more than 300 rupees?', additional_kwargs={}, response_metadata={}, id='89b5eb82-378c-4465-9d0f-60ea4cb0ae55'), AIMessage(content='', additional_kwargs={}, response_metadata={}, id='0bb15095-57c4-49c4-988a-2d95c1f9cc0e', tool_calls=[{'name': 'sql_db_list_tables', 'args': {}, 'id': 'tool_abcd123', 'type': 'tool_call'}]), ToolMessage(content='customers, employees, orders', name='sql_db_list_tables', id='4bddfed2-7390-462d-8e45-6020f0af2749', tool_call_id='tool_abcd123'), AIMessage(content='', additional_kwargs={'tool_calls': [{'id': 'call_j8fh', 'function': {'arguments': '{\"table_names\":\"orders\"}', 'name': 'sql_db_schema'}, 'type': 'function'}]}, response_metadata={'token_usage': {'completion_tokens': 35, 'prompt_tokens': 1059, 'total_tokens': 1094, 'completion_time': 0.112235894, 'prompt_time': 0.0343707, 'queue_time': 0.103896187, 'total_time': 0.146606594}, 'model_name': 'llama3-70b-8192', 'system_fingerprint': 'fp_dd4ae1c591', 'finish_reason': 'tool_calls', 'logprobs': None}, id='run-c5943947-2c08-41e3-b5f5-47291b67680f-0', tool_calls=[{'name': 'sql_db_schema', 'args': {'table_names': 'orders'}, 'id': 'call_j8fh', 'type': 'tool_call'}], usage_metadata={'input_tokens': 1059, 'output_tokens': 35, 'total_tokens': 1094}), ToolMessage(content='\\nCREATE TABLE orders (\\n\\torder_id INTEGER, \\n\\tcustomer_id INTEGER NOT NULL, \\n\\torder_date TEXT NOT NULL, \\n\\tamount REAL NOT NULL, \\n\\tPRIMARY KEY (order_id), \\n\\tFOREIGN KEY(customer_id) REFERENCES customers (customer_id)\\n)\\n\\n/*\\n3 rows from orders table:\\norder_id\\tcustomer_id\\torder_date\\tamount\\n1\\t1\\t2023-12-01\\t250.75\\n2\\t2\\t2023-11-20\\t150.5\\n3\\t3\\t2023-11-25\\t300.0\\n*/', name='sql_db_schema', id='cc600b18-6e4c-413c-909f-31106b936798', tool_call_id='call_j8fh')]}\n",
      "state from should_continue: {'messages': [HumanMessage(content='how many order are there which is more than 300 rupees?', additional_kwargs={}, response_metadata={}, id='89b5eb82-378c-4465-9d0f-60ea4cb0ae55'), AIMessage(content='', additional_kwargs={}, response_metadata={}, id='0bb15095-57c4-49c4-988a-2d95c1f9cc0e', tool_calls=[{'name': 'sql_db_list_tables', 'args': {}, 'id': 'tool_abcd123', 'type': 'tool_call'}]), ToolMessage(content='customers, employees, orders', name='sql_db_list_tables', id='4bddfed2-7390-462d-8e45-6020f0af2749', tool_call_id='tool_abcd123'), AIMessage(content='', additional_kwargs={'tool_calls': [{'id': 'call_j8fh', 'function': {'arguments': '{\"table_names\":\"orders\"}', 'name': 'sql_db_schema'}, 'type': 'function'}]}, response_metadata={'token_usage': {'completion_tokens': 35, 'prompt_tokens': 1059, 'total_tokens': 1094, 'completion_time': 0.112235894, 'prompt_time': 0.0343707, 'queue_time': 0.103896187, 'total_time': 0.146606594}, 'model_name': 'llama3-70b-8192', 'system_fingerprint': 'fp_dd4ae1c591', 'finish_reason': 'tool_calls', 'logprobs': None}, id='run-c5943947-2c08-41e3-b5f5-47291b67680f-0', tool_calls=[{'name': 'sql_db_schema', 'args': {'table_names': 'orders'}, 'id': 'call_j8fh', 'type': 'tool_call'}], usage_metadata={'input_tokens': 1059, 'output_tokens': 35, 'total_tokens': 1094}), ToolMessage(content='\\nCREATE TABLE orders (\\n\\torder_id INTEGER, \\n\\tcustomer_id INTEGER NOT NULL, \\n\\torder_date TEXT NOT NULL, \\n\\tamount REAL NOT NULL, \\n\\tPRIMARY KEY (order_id), \\n\\tFOREIGN KEY(customer_id) REFERENCES customers (customer_id)\\n)\\n\\n/*\\n3 rows from orders table:\\norder_id\\tcustomer_id\\torder_date\\tamount\\n1\\t1\\t2023-12-01\\t250.75\\n2\\t2\\t2023-11-20\\t150.5\\n3\\t3\\t2023-11-25\\t300.0\\n*/', name='sql_db_schema', id='cc600b18-6e4c-413c-909f-31106b936798', tool_call_id='call_j8fh'), AIMessage(content='', additional_kwargs={'tool_calls': [{'id': 'call_nqkg', 'function': {'arguments': '{\"final_answer\":\"2\"}', 'name': 'SubmitFinalAnswer'}, 'type': 'function'}]}, response_metadata={'token_usage': {'completion_tokens': 35, 'prompt_tokens': 1466, 'total_tokens': 1501, 'completion_time': 0.116086154, 'prompt_time': 0.055255571, 'queue_time': 0.092970112, 'total_time': 0.171341725}, 'model_name': 'llama3-70b-8192', 'system_fingerprint': 'fp_dd4ae1c591', 'finish_reason': 'tool_calls', 'logprobs': None}, id='run-8241e0c3-e531-457f-ae78-169e66bd8119-0', tool_calls=[{'name': 'SubmitFinalAnswer', 'args': {'final_answer': '2'}, 'id': 'call_nqkg', 'type': 'tool_call'}], usage_metadata={'input_tokens': 1466, 'output_tokens': 35, 'total_tokens': 1501})]}\n",
      "last message\n",
      "content='' additional_kwargs={'tool_calls': [{'id': 'call_nqkg', 'function': {'arguments': '{\"final_answer\":\"2\"}', 'name': 'SubmitFinalAnswer'}, 'type': 'function'}]} response_metadata={'token_usage': {'completion_tokens': 35, 'prompt_tokens': 1466, 'total_tokens': 1501, 'completion_time': 0.116086154, 'prompt_time': 0.055255571, 'queue_time': 0.092970112, 'total_time': 0.171341725}, 'model_name': 'llama3-70b-8192', 'system_fingerprint': 'fp_dd4ae1c591', 'finish_reason': 'tool_calls', 'logprobs': None} id='run-8241e0c3-e531-457f-ae78-169e66bd8119-0' tool_calls=[{'name': 'SubmitFinalAnswer', 'args': {'final_answer': '2'}, 'id': 'call_nqkg', 'type': 'tool_call'}] usage_metadata={'input_tokens': 1466, 'output_tokens': 35, 'total_tokens': 1501}\n",
      "sooo\n"
     ]
    },
    {
     "data": {
      "text/plain": [
       "'2'"
      ]
     },
     "execution_count": 53,
     "metadata": {},
     "output_type": "execute_result"
    }
   ],
   "source": [
    "query={\"messages\": [(\"user\", \"how many order are there which is more than 300 rupees?\")]}\n",
    "response=app.invoke(query)\n",
    "response[\"messages\"][-1].tool_calls[0][\"args\"][\"final_answer\"]"
   ]
  },
  {
   "cell_type": "code",
   "execution_count": null,
   "id": "3c0f9ada",
   "metadata": {},
   "outputs": [],
   "source": []
  }
 ],
 "metadata": {
  "kernelspec": {
   "display_name": "venv",
   "language": "python",
   "name": "python3"
  },
  "language_info": {
   "codemirror_mode": {
    "name": "ipython",
    "version": 3
   },
   "file_extension": ".py",
   "mimetype": "text/x-python",
   "name": "python",
   "nbconvert_exporter": "python",
   "pygments_lexer": "ipython3",
   "version": "3.13.2"
  }
 },
 "nbformat": 4,
 "nbformat_minor": 5
}
